{
 "cells": [
  {
   "cell_type": "markdown",
   "id": "41d5c0bb-f0df-4bf2-bd6c-33e2089e0be1",
   "metadata": {},
   "source": [
    "                                            ASSIGNMENT 30-JAN"
   ]
  },
  {
   "cell_type": "markdown",
   "id": "9dac32d0-67af-4b63-830d-bfab1ace8927",
   "metadata": {},
   "source": [
    "QUESTION.1"
   ]
  },
  {
   "cell_type": "markdown",
   "id": "d8364876-226d-418b-96fa-05f95472e8d0",
   "metadata": {},
   "source": [
    "Q1. Write a program to accept percentage from the user and display the grade according to the following criteria."
   ]
  },
  {
   "cell_type": "code",
   "execution_count": 4,
   "id": "f5819bde-1e11-40f3-8f48-db8c9c57b7d7",
   "metadata": {},
   "outputs": [],
   "source": [
    "# Code line goes here :\n"
   ]
  },
  {
   "cell_type": "code",
   "execution_count": 6,
   "id": "fa391803-f016-48bb-a732-d8161d363562",
   "metadata": {},
   "outputs": [
    {
     "name": "stdin",
     "output_type": "stream",
     "text": [
      "Enter your percentage to check your grade :  90\n"
     ]
    },
    {
     "name": "stdout",
     "output_type": "stream",
     "text": [
      "Congratulations ! You have secured grade B\n"
     ]
    }
   ],
   "source": [
    "percentage = int(input(\"Enter your percentage to check your grade : \"))\n",
    "\n",
    "if percentage > 90 :\n",
    "    print(\"Congratulations ! You have secured grade A\")\n",
    "elif 80 < percentage <= 90 :\n",
    "    print(\"Congratulations ! You have secured grade B\")\n",
    "elif 60 <= percentage <= 80 :\n",
    "    print(\"Work hard ! You have secured grade C\")\n",
    "else :\n",
    "    print(\"Work harder ! You have secured grade D\")"
   ]
  },
  {
   "cell_type": "markdown",
   "id": "338d0c63-5864-4cb6-98f9-a5af5333a159",
   "metadata": {},
   "source": [
    "QUESTION.2"
   ]
  },
  {
   "cell_type": "markdown",
   "id": "36249375-881c-4156-ad1d-e98d5250d105",
   "metadata": {},
   "source": [
    "Q2. Write a program to accept the cost price of a bike and display the road tax to be paid according to the following criteria."
   ]
  },
  {
   "cell_type": "code",
   "execution_count": 7,
   "id": "1086a1a8-721b-4326-9b06-5a0dc6e88cc7",
   "metadata": {},
   "outputs": [],
   "source": [
    "# Code line goes here :"
   ]
  },
  {
   "cell_type": "code",
   "execution_count": 8,
   "id": "2da2d5de-a25d-4769-ab24-449161ca79ed",
   "metadata": {},
   "outputs": [
    {
     "name": "stdin",
     "output_type": "stream",
     "text": [
      "Enter the cost price of bike to know about the road tax to be paid :  500\n"
     ]
    },
    {
     "name": "stdout",
     "output_type": "stream",
     "text": [
      "Your cost price is :  500 \n",
      "You have to pay 5% road tax\n"
     ]
    }
   ],
   "source": [
    "cost_price = int(input(\"Enter the cost price of bike to know about the road tax to be paid : \"))\n",
    "\n",
    "if cost_price > 100000 :\n",
    "    print(\"Your cost price is : \", cost_price, \"\\nYou have to pay 15% road tax\")\n",
    "elif 50000 < cost_price <= 100000 :\n",
    "    print(\"Your cost price is : \", cost_price, \"\\nYou have to pay 10% road tax\")\n",
    "else :\n",
    "    print(\"Your cost price is : \", cost_price, \"\\nYou have to pay 5% road tax\")"
   ]
  },
  {
   "cell_type": "markdown",
   "id": "c9857b69-4077-42f4-a0b4-6902838ada99",
   "metadata": {},
   "source": [
    "QUESTION.3"
   ]
  },
  {
   "cell_type": "markdown",
   "id": "fa4eda9c-9811-4d5a-8bb4-97df81c2df17",
   "metadata": {},
   "source": [
    "Q3.  Accept any city from the user and display monuments of that city."
   ]
  },
  {
   "cell_type": "code",
   "execution_count": 9,
   "id": "7d09ef58-bf61-4c6e-8ce6-e8c4dc6839cf",
   "metadata": {},
   "outputs": [],
   "source": [
    "# Code line goes here :"
   ]
  },
  {
   "cell_type": "code",
   "execution_count": 11,
   "id": "8792d2e4-0df0-496b-9fc0-8729ac233bb7",
   "metadata": {},
   "outputs": [
    {
     "name": "stdin",
     "output_type": "stream",
     "text": [
      "Write any city name to know it's famous monument :  kolkata\n"
     ]
    },
    {
     "name": "stdout",
     "output_type": "stream",
     "text": [
      "Oops ! Currently I can not provide data for the city :  kolkata \n",
      "\n",
      "Kindly choose city name among the following : \n",
      "Delhi\n",
      "Agra\n",
      "Jaipur\n"
     ]
    }
   ],
   "source": [
    "city = input(\"Write any city name to know it's famous monument : \")\n",
    "\n",
    "if city == \"Delhi\" or city == \"delhi\" :\n",
    "    print(\"'Red Fort' is one of the famous monument of\", city, \" !!!\")\n",
    "elif city == \"Agra\" or city == \"agra\" :\n",
    "    print(\"'Taj Mahal' is one of the famous monument of\", city, \" !!!\")\n",
    "elif city == \"Jaipur\" or city == \"jaipur\" :\n",
    "    print(\"'Jal Mahal' is one of the famous monument of\", city, \" !!!\")\n",
    "else :\n",
    "    print(\"Oops ! Currently I can not provide data for the city : \", city, \"\\n\\nKindly choose city name among the following : \\nDelhi\\nAgra\\nJaipur\")"
   ]
  },
  {
   "cell_type": "markdown",
   "id": "14826c14-b687-41e1-81d5-5125f1059f53",
   "metadata": {},
   "source": [
    "\n",
    "QUESTION.4"
   ]
  },
  {
   "cell_type": "markdown",
   "id": "705f4aab-5b2c-462d-9262-7daa8d5d3e5e",
   "metadata": {},
   "source": [
    "Q4. Check how many times a given number can be divided by 3 before it is less than or equal to 10."
   ]
  },
  {
   "cell_type": "code",
   "execution_count": 12,
   "id": "0b12573e-a3ad-4324-a2cc-8a474aadf135",
   "metadata": {},
   "outputs": [],
   "source": [
    "# Code line goes here :"
   ]
  },
  {
   "cell_type": "code",
   "execution_count": 13,
   "id": "9d20c8d7-0567-44d3-a9d9-4403dc5e2a9d",
   "metadata": {},
   "outputs": [
    {
     "name": "stdin",
     "output_type": "stream",
     "text": [
      "Enter a number to check how many times it can be divided by 3 before it is less than or equal to 10 :  144\n"
     ]
    },
    {
     "name": "stdout",
     "output_type": "stream",
     "text": [
      "You have entered :  144 \n",
      "Find below the result : \n",
      "144.0\n",
      "48.0\n",
      "16.0\n",
      "\n",
      "The given number can be divided 3 times by 3 before it is less than or equal to 10.\n"
     ]
    }
   ],
   "source": [
    "num = int(input(\"Enter a number to check how many times it can be divided by 3 before it is less than or equal to 10 : \"))\n",
    "count = 0\n",
    "print(\"You have entered : \", num, \"\\nFind below the result : \")\n",
    "\n",
    "while num > 10 :\n",
    "    print(num / 1)\n",
    "    num = num /  3             \n",
    "    count = count + 1          \n",
    "\n",
    "print(\"\\nThe given number can be divided\", count, \"times by 3 before it is less than or equal to 10.\")"
   ]
  },
  {
   "cell_type": "markdown",
   "id": "180831d6-72d4-46d7-a82a-3d52aa0ac7d7",
   "metadata": {},
   "source": [
    "QUESTION.7"
   ]
  },
  {
   "cell_type": "markdown",
   "id": "5c44abc9-3bc0-455b-af9e-bec270da6a1c",
   "metadata": {},
   "source": [
    "Q7. Reverse a while loop to display numbers from 10 to 1."
   ]
  },
  {
   "cell_type": "code",
   "execution_count": 14,
   "id": "27c2d8dc-3ea2-448a-87af-ae3258e39350",
   "metadata": {},
   "outputs": [],
   "source": [
    "# Code line goes from here :"
   ]
  },
  {
   "cell_type": "code",
   "execution_count": 15,
   "id": "ccab3d48-4c6d-4335-9046-f8decfd3a683",
   "metadata": {},
   "outputs": [
    {
     "name": "stdout",
     "output_type": "stream",
     "text": [
      "10\n",
      "9\n",
      "8\n",
      "7\n",
      "6\n",
      "5\n",
      "4\n",
      "3\n",
      "2\n",
      "1\n",
      "\n",
      "While loop to print reverse of numbers from 10 to 1 has been executed successfully !\n"
     ]
    }
   ],
   "source": [
    "i = 10                      \n",
    "while i > 0 :              \n",
    "    print(i)                      \n",
    "    i = i - 1                        \n",
    "print(\"\\nWhile loop to print rev)"
   ]
  },
  {
   "cell_type": "code",
   "execution_count": null,
   "id": "1d3a81ef-78c5-4cf3-8d2a-45b23d45e508",
   "metadata": {},
   "outputs": [],
   "source": []
  }
 ],
 "metadata": {
  "kernelspec": {
   "display_name": "Python 3 (ipykernel)",
   "language": "python",
   "name": "python3"
  },
  "language_info": {
   "codemirror_mode": {
    "name": "ipython",
    "version": 3
   },
   "file_extension": ".py",
   "mimetype": "text/x-python",
   "name": "python",
   "nbconvert_exporter": "python",
   "pygments_lexer": "ipython3",
   "version": "3.10.8"
  }
 },
 "nbformat": 4,
 "nbformat_minor": 5
}
